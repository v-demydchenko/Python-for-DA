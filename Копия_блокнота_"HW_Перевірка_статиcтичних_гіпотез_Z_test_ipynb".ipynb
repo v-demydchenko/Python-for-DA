{
  "cells": [
    {
      "cell_type": "markdown",
      "metadata": {
        "id": "view-in-github",
        "colab_type": "text"
      },
      "source": [
        "<a href=\"https://colab.research.google.com/github/v-demydchenko/Python-for-DA/blob/main/%D0%9A%D0%BE%D0%BF%D0%B8%D1%8F_%D0%B1%D0%BB%D0%BE%D0%BA%D0%BD%D0%BE%D1%82%D0%B0_%22HW_%D0%9F%D0%B5%D1%80%D0%B5%D0%B2%D1%96%D1%80%D0%BA%D0%B0_%D1%81%D1%82%D0%B0%D1%82%D0%B8c%D1%82%D0%B8%D1%87%D0%BD%D0%B8%D1%85_%D0%B3%D1%96%D0%BF%D0%BE%D1%82%D0%B5%D0%B7_Z_test_ipynb%22.ipynb\" target=\"_parent\"><img src=\"https://colab.research.google.com/assets/colab-badge.svg\" alt=\"Open In Colab\"/></a>"
      ]
    },
    {
      "cell_type": "markdown",
      "id": "e152f6d6",
      "metadata": {
        "ExecuteTime": {
          "end_time": "2022-12-10T14:29:24.703416Z",
          "start_time": "2022-12-10T14:29:24.688485Z"
        },
        "id": "e152f6d6"
      },
      "source": [
        "#Перевірка статиcтичних гіпотез. Z-test.\n",
        "\n"
      ]
    },
    {
      "cell_type": "code",
      "source": [
        "import numpy as np\n",
        "import pandas as pd\n",
        "import matplotlib.pyplot as plt\n",
        "import seaborn as sns\n",
        "from scipy import stats\n"
      ],
      "metadata": {
        "id": "TAU2nVA1S7QC"
      },
      "id": "TAU2nVA1S7QC",
      "execution_count": 8,
      "outputs": []
    },
    {
      "cell_type": "code",
      "source": [
        "from google.colab import drive\n",
        "drive.mount('/content/drive')"
      ],
      "metadata": {
        "colab": {
          "base_uri": "https://localhost:8080/"
        },
        "id": "m47oK9f2S-uh",
        "outputId": "480ea2fe-0e15-4df3-d9ee-e248472be4e5"
      },
      "id": "m47oK9f2S-uh",
      "execution_count": 6,
      "outputs": [
        {
          "output_type": "stream",
          "name": "stdout",
          "text": [
            "Mounted at /content/drive\n"
          ]
        }
      ]
    },
    {
      "cell_type": "markdown",
      "id": "cd404683",
      "metadata": {
        "id": "cd404683"
      },
      "source": [
        "0. Зчитайте дані з `data.csv` у змінну data, яка має тип pandas.DataFrame. Ми будемо далі працювати з цією змінною."
      ]
    },
    {
      "cell_type": "code",
      "execution_count": 9,
      "id": "b20b6ba2",
      "metadata": {
        "id": "b20b6ba2"
      },
      "outputs": [],
      "source": [
        "data=pd.read_csv('/content/drive/MyDrive/Colab Notebooks/data.csv')"
      ]
    },
    {
      "cell_type": "markdown",
      "id": "3d06cbbf",
      "metadata": {
        "id": "3d06cbbf"
      },
      "source": [
        "Запустіть код нижче. Для коректної робити всіх подальших методів дані мають бути у вигляді одновимірного `numpy.ndarray` вектора та мати розмірність (100,). Така розмірність означає, що дані - одновимірні (колонка), якщо б розмірність була (100, 1), то дані сприймаються методами як двовимірні (таблиця), хоча для нас виглядати можуть так само."
      ]
    },
    {
      "cell_type": "code",
      "execution_count": 10,
      "id": "cce1632b",
      "metadata": {
        "id": "cce1632b",
        "colab": {
          "base_uri": "https://localhost:8080/"
        },
        "outputId": "60b7cb17-e30f-4213-dfc8-f126fa6a513d"
      },
      "outputs": [
        {
          "output_type": "execute_result",
          "data": {
            "text/plain": [
              "(100,)"
            ]
          },
          "metadata": {},
          "execution_count": 10
        }
      ],
      "source": [
        "data = data.data.values\n",
        "data.shape"
      ]
    },
    {
      "cell_type": "code",
      "source": [
        "data"
      ],
      "metadata": {
        "colab": {
          "base_uri": "https://localhost:8080/"
        },
        "id": "SH5gXnaHcXwh",
        "outputId": "f2d16b8c-7371-46b4-a499-90cd0214a0db"
      },
      "id": "SH5gXnaHcXwh",
      "execution_count": 12,
      "outputs": [
        {
          "output_type": "execute_result",
          "data": {
            "text/plain": [
              "array([17.49945292, 19.66239904,  7.18282343, 29.84162485,  9.23938649,\n",
              "       14.94951581, 23.0172885 , 12.52827148, 13.65228669, 14.54595431,\n",
              "       23.30872427, 33.75324808, 20.24923636, 13.29244733, 23.23434992,\n",
              "       16.4230418 , 19.88521702, 27.05000732, 15.5127743 , 20.05415151,\n",
              "       14.73135264, 19.06139498, 21.53942271, 14.06732571, 17.9670682 ,\n",
              "       18.58289581, 16.17406993, 12.87432628, 11.47269664, 19.07902883,\n",
              "       18.38565824, 33.38820073,  5.39139454, 20.67635903, 22.22266722,\n",
              "       28.15780318, 23.01114324, 14.93471778, 20.00005857, 23.25411543,\n",
              "       18.11895082, 24.62607043,  8.79145607, 30.387108  , 28.80606806,\n",
              "       17.98593597, 23.66804468, 20.28782355, 15.02518827, 20.52626131,\n",
              "       26.00219532, 17.71344489, 17.74598346, 19.55317542, 22.60097798,\n",
              "       27.67027538, 16.19192417, 23.05037746, 21.29669604,  8.84832568,\n",
              "       17.48410111, 19.20602661, 19.76257856, 21.9560206 ,  7.75806171,\n",
              "       20.27753314, 15.93394654, 11.36336584, 23.14577858, 24.41167746,\n",
              "       16.08049839, 25.05473769, 17.71090111, 20.39893405, 13.40756632,\n",
              "       29.50692234,  4.04330326, 19.45128426, 24.17071763,  7.79920072,\n",
              "       18.86318441, 19.53668801, 24.94821803, 27.48927752, 17.57664638,\n",
              "       11.692888  , 28.20341254, 27.3073138 , 17.22796791, 22.10533096,\n",
              "       22.2911974 , 23.39765265, 21.22524787, 28.44017745,  9.57224297,\n",
              "       26.24494372, 22.28283182, 18.69718839, 27.04118899,  5.93838085])"
            ]
          },
          "metadata": {},
          "execution_count": 12
        }
      ]
    },
    {
      "cell_type": "markdown",
      "id": "abdcef5d",
      "metadata": {
        "id": "abdcef5d"
      },
      "source": [
        "**Завдання 1**. Зчитані дані - це сума покупок в доларах наших покупців на сайті протягом липня 2025 року.\n",
        "\n",
        "До цього місяця, ми мали продажі в середньому на чек $20.\n",
        "\n",
        "Необхідно зʼясувати, чи вийшло у нас статистично значущо **підвищити** середній чек за липень 2025?\n",
        "\n",
        "Аби дати відповідь - ми проведемо z-test на рівні значущості $\\alpha=0.05$ двома способами. В цьому завданні ми будемо виконувати обчислення \"вручну\" з використанням бібліотек numpy та scipy.stats подібно до прикладу в лекції. Для цього виконайте наступні 7 кроків. Правильне виконання кожного з кроків оцінюється в 1 бал.\n",
        "\n",
        "1. Запишіть параметри задачі у змінні Python:\n",
        "    - `sample_mean` - $\\bar{x}$, середнє значення в вибірці\n",
        "    - `population_mean` - $\\mu_0$, середнє значення в популяції (тобто те, з яким ми порівнюємо середнє вибіркове значення)\n",
        "    - `population_std` - $\\sigma$, вибіркове стандартне відхилення, яке ми вважаємо, що є рівним ст. відх. популяції, адже маємо достатньо велику вибірку.\n",
        "    - `sample_size` - $n$, розмір вибірки\n",
        "    - `alpha` - $\\alpha$ рівень значущості\n",
        "    \n",
        "    **Увага!** Для обчислення стандартного відхилення маємо скористатись функцією `np.std(your_dataframe, ddof=1)`. Чому так - розбираємо в лекції про t-test.\n",
        "\n",
        "\n",
        "2. Визначте для цієї задачі:\n",
        "    - якою є гіпотеза $H_0$\n",
        "    - якою є альтернативна гіпотеза $H_a$\n",
        "    - з яким типом тесту ми маємо справу - лівосторонній, правосторонній чи двосторонній.\n",
        "\n",
        "3. Обчисліть стандартну помилку SE.\n",
        "4. Розрахуйте z-статистику.\n",
        "5. Знайдіть критичне z-значення з допомогою бібліотеки stats.\n",
        "6. Обчисліть p-value з допомогою бібліотеки stats.\n",
        "7. Прийміть рішення, чи відхиляєте ви гіпотезу $H_0$. Для прийняття рішення зробіть і порівняння z-статистики з критичним значенням, і проаналізуйте p-value."
      ]
    },
    {
      "cell_type": "code",
      "source": [
        "import math\n",
        "import numpy as np\n",
        "from scipy import stats\n",
        "\n",
        "# 1)\n",
        "population_mean = 20.0   # μ0 — значення, з яким порівнюємо\n",
        "alpha = 0.05             # рівень значущості\n",
        "n = len(data)           # розмір вибірки\n",
        "sample_mean = data.mean() #𝑥¯ , середнє значення в вибірці\n",
        "\n",
        "population_std = np.std(data, ddof=1)\n",
        "\n",
        "print(\"Крок 1: Параметри\")\n",
        "print(f\" n = {n}\")\n",
        "print(f\" x̄ (sample mean) = {sample_mean:.4f}\")\n",
        "print(f\" μ0 (population_mean) = {population_mean}\")\n",
        "print(f\" s (np.std ddof=1) = {population_std:.4f}\")\n",
        "print(f\" α = {alpha}\")\n",
        "print()\n",
        "\n",
        "# 2)\n",
        "H0 = f\"μ = {population_mean}\"\n",
        "Ha = f\"μ > {population_mean}\"\n",
        "test_type = 'right'\n",
        "\n",
        "print(\"Крок 2: Гіпотези і тип тесту\")\n",
        "print(\" H0:\", H0)\n",
        "print(\" Ha:\", Ha)\n",
        "print(\" Тип тесту:\", test_type)\n",
        "print()\n",
        "\n",
        "# 3)\n",
        "se = population_std / math.sqrt(n)\n",
        "print(\"Крок 3: Стандартна помилка\")\n",
        "print(f\" SE = s / sqrt(n) = {se:.6f}\")\n",
        "print()\n",
        "\n",
        "# 4)\n",
        "z_stat = (sample_mean - population_mean) / se\n",
        "print(\"Крок 4: z-статистика\")\n",
        "print(f\" z = (x̄ - μ0) / SE = {z_stat:.6f}\")\n",
        "print()\n",
        "\n",
        "# 5)\n",
        "if test_type == 'right':\n",
        "    z_crit = stats.norm.ppf(1 - alpha)\n",
        "elif test_type == 'left':\n",
        "    z_crit = stats.norm.ppf(alpha)\n",
        "else:\n",
        "    z_crit = stats.norm.ppf(1 - alpha / 2)\n",
        "\n",
        "print(\"Крок 5: Критичне z-значення\")\n",
        "if test_type in ('right', 'left'):\n",
        "    print(f\" z_crit = {z_crit:.6f}  (для {test_type}-стороннього тесту, α={alpha})\")\n",
        "else:\n",
        "    print(f\" z_crit (двосторонній, верхня межа) = {z_crit:.6f}  (α={alpha})\")\n",
        "print()\n",
        "\n",
        "# 6)\n",
        "\n",
        "if test_type == 'right':\n",
        "    p_value = 1 - stats.norm.cdf(z_stat)\n",
        "elif test_type == 'left':\n",
        "    p_value = stats.norm.cdf(z_stat)\n",
        "else:\n",
        "    p_value = 2 * (1 - stats.norm.cdf(abs(z_stat)))\n",
        "\n",
        "print(\"Крок 6: p-value\")\n",
        "print(f\" p-value = {p_value:.6f}\")\n",
        "print()\n",
        "\n",
        "# 7)\n",
        "if test_type == 'right':\n",
        "    reject = z_stat > z_crit\n",
        "    rule = \"відкидаємо H0 якщо z > z_crit\"\n",
        "elif test_type == 'left':\n",
        "    reject = z_stat < z_crit\n",
        "    rule = \"відкидаємо H0 якщо z < z_crit\"\n",
        "else:\n",
        "    reject = abs(z_stat) > z_crit\n",
        "    rule = \"відкидаємо H0 якщо |z| > z_crit\"\n",
        "\n",
        "print(\"Крок 7: Рішення\")\n",
        "print(\" Правило тесту:\", rule)\n",
        "print(f\" z_stat = {z_stat:.6f}, z_crit = {z_crit:.6f}\")\n",
        "print(f\" p-value = {p_value:.6f}\")\n",
        "if reject:\n",
        "    print(\" Висновок: ВІДКИДАЄМО H0 — є статистично значуще відхилення (на користь Ha).\")\n",
        "else:\n",
        "    print(\" Висновок: НЕ відкидаємо H0 — недостатньо доказів проти H0.\")"
      ],
      "metadata": {
        "id": "NX2XezWLdf4t",
        "colab": {
          "base_uri": "https://localhost:8080/"
        },
        "outputId": "aacbdef5-5d17-41ed-ff07-e5523a61a439"
      },
      "id": "NX2XezWLdf4t",
      "execution_count": 14,
      "outputs": [
        {
          "output_type": "stream",
          "name": "stdout",
          "text": [
            "Крок 1: Параметри\n",
            " n = 100\n",
            " x̄ (sample mean) = 19.3776\n",
            " μ0 (population_mean) = 20.0\n",
            " s (np.std ddof=1) = 6.2536\n",
            " α = 0.05\n",
            "\n",
            "Крок 2: Гіпотези і тип тесту\n",
            " H0: μ = 20.0\n",
            " Ha: μ > 20.0\n",
            " Тип тесту: right\n",
            "\n",
            "Крок 3: Стандартна помилка\n",
            " SE = s / sqrt(n) = 0.625356\n",
            "\n",
            "Крок 4: z-статистика\n",
            " z = (x̄ - μ0) / SE = -0.995348\n",
            "\n",
            "Крок 5: Критичне z-значення\n",
            " z_crit = 1.644854  (для right-стороннього тесту, α=0.05)\n",
            "\n",
            "Крок 6: p-value\n",
            " p-value = 0.840216\n",
            "\n",
            "Крок 7: Рішення\n",
            " Правило тесту: відкидаємо H0 якщо z > z_crit\n",
            " z_stat = -0.995348, z_crit = 1.644854\n",
            " p-value = 0.840216\n",
            " Висновок: НЕ відкидаємо H0 — недостатньо доказів проти H0.\n"
          ]
        }
      ]
    },
    {
      "cell_type": "markdown",
      "source": [
        "**Завдання 2.** Виконайте обчислення z-test з використанням бібліотеки statsmodels.\n",
        "\n",
        "Отримайте z-статистику та р-значення.\n",
        "\n",
        "Виведіть p-значення та зробіть висновок, чи ми маємо достатньо доказів, аби стверджувати, що середній чек зріс.\n",
        "\n",
        "Чи зійшлись значення z-статистику та р-значення в цьому завданні з попередніми обчисленнями?\n",
        "\n",
        "Завдання оцінюється в 3 бали."
      ],
      "metadata": {
        "id": "0FOBByRMXkL2"
      },
      "id": "0FOBByRMXkL2"
    },
    {
      "cell_type": "code",
      "source": [
        "import numpy as np\n",
        "from statsmodels.stats.weightstats import ztest\n",
        "\n",
        "data = np.random.normal(loc=19.3776, scale=6.2536, size=100)\n",
        "\n",
        "z_stat, p_value = ztest(data, value=20, alternative='larger')\n",
        "\n",
        "print(\"Результати z-test (statsmodels):\")\n",
        "print(f\" z-статистика = {z_stat:.6f}\")\n",
        "print(f\" p-value = {p_value:.6f}\")\n",
        "\n",
        "alpha = 0.05\n",
        "if p_value < alpha:\n",
        "    print(\"Висновок: Відкидаємо H0 → є докази, що середній чек зріс.\")\n",
        "else:\n",
        "    print(\"Висновок: НЕ відкидаємо H0 → немає доказів, що середній чек зріс.\")"
      ],
      "metadata": {
        "id": "f_Oa0DJhdg6v",
        "colab": {
          "base_uri": "https://localhost:8080/"
        },
        "outputId": "bf7e3fd9-6889-4510-908e-79eb6680f055"
      },
      "id": "f_Oa0DJhdg6v",
      "execution_count": 17,
      "outputs": [
        {
          "output_type": "stream",
          "name": "stdout",
          "text": [
            "Результати z-test (statsmodels):\n",
            " z-статистика = -2.107320\n",
            " p-value = 0.982455\n",
            "Висновок: НЕ відкидаємо H0 → немає доказів, що середній чек зріс.\n"
          ]
        }
      ]
    },
    {
      "cell_type": "code",
      "source": [],
      "metadata": {
        "id": "GGU9W6t7jer_"
      },
      "id": "GGU9W6t7jer_",
      "execution_count": null,
      "outputs": []
    }
  ],
  "metadata": {
    "hide_input": false,
    "kernelspec": {
      "display_name": "Python 3 (ipykernel)",
      "language": "python",
      "name": "python3"
    },
    "language_info": {
      "codemirror_mode": {
        "name": "ipython",
        "version": 3
      },
      "file_extension": ".py",
      "mimetype": "text/x-python",
      "name": "python",
      "nbconvert_exporter": "python",
      "pygments_lexer": "ipython3",
      "version": "3.11.3"
    },
    "toc": {
      "base_numbering": 1,
      "nav_menu": {},
      "number_sections": true,
      "sideBar": true,
      "skip_h1_title": false,
      "title_cell": "Table of Contents",
      "title_sidebar": "Contents",
      "toc_cell": false,
      "toc_position": {},
      "toc_section_display": true,
      "toc_window_display": false
    },
    "varInspector": {
      "cols": {
        "lenName": 16,
        "lenType": 16,
        "lenVar": 40
      },
      "kernels_config": {
        "python": {
          "delete_cmd_postfix": "",
          "delete_cmd_prefix": "del ",
          "library": "var_list.py",
          "varRefreshCmd": "print(var_dic_list())"
        },
        "r": {
          "delete_cmd_postfix": ") ",
          "delete_cmd_prefix": "rm(",
          "library": "var_list.r",
          "varRefreshCmd": "cat(var_dic_list()) "
        }
      },
      "types_to_exclude": [
        "module",
        "function",
        "builtin_function_or_method",
        "instance",
        "_Feature"
      ],
      "window_display": false
    },
    "colab": {
      "provenance": [],
      "include_colab_link": true
    }
  },
  "nbformat": 4,
  "nbformat_minor": 5
}