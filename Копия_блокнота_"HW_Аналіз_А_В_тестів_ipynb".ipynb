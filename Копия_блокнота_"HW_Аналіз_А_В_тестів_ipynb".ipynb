{
  "nbformat": 4,
  "nbformat_minor": 0,
  "metadata": {
    "colab": {
      "provenance": [],
      "include_colab_link": true
    },
    "kernelspec": {
      "name": "python3",
      "display_name": "Python 3"
    },
    "language_info": {
      "name": "python"
    }
  },
  "cells": [
    {
      "cell_type": "markdown",
      "metadata": {
        "id": "view-in-github",
        "colab_type": "text"
      },
      "source": [
        "<a href=\"https://colab.research.google.com/github/v-demydchenko/Python-for-DA/blob/main/%D0%9A%D0%BE%D0%BF%D0%B8%D1%8F_%D0%B1%D0%BB%D0%BE%D0%BA%D0%BD%D0%BE%D1%82%D0%B0_%22HW_%D0%90%D0%BD%D0%B0%D0%BB%D1%96%D0%B7_%D0%90_%D0%92_%D1%82%D0%B5%D1%81%D1%82%D1%96%D0%B2_ipynb%22.ipynb\" target=\"_parent\"><img src=\"https://colab.research.google.com/assets/colab-badge.svg\" alt=\"Open In Colab\"/></a>"
      ]
    },
    {
      "cell_type": "markdown",
      "metadata": {
        "ExecuteTime": {
          "end_time": "2022-12-10T17:43:42.137588Z",
          "start_time": "2022-12-10T17:43:42.124712Z"
        },
        "id": "f41183ed"
      },
      "source": [
        "## Аналіз A/B-тестів\n",
        "\n",
        "Ви - аналітик даних в ІТ-компанії і до вас надійшла задача проаналізувати дані A/B тесту в популярній [грі Cookie Cats](https://www.facebook.com/cookiecatsgame). Це - гра-головоломка в стилі «з’єднай три», де гравець повинен з’єднати плитки одного кольору, щоб очистити дошку та виграти рівень. На дошці також зображені співаючі котики :)\n",
        "\n",
        "Під час проходження гри гравці стикаються з воротами, які змушують їх чекати деякий час, перш ніж вони зможуть прогресувати або зробити покупку в додатку.\n",
        "\n",
        "У цьому блоці завдань ми проаналізуємо результати A/B тесту, коли перші ворота в Cookie Cats було переміщено з рівня 30 на рівень 40. Зокрема, ми хочемо зрозуміти, як це вплинуло на утримання (retention) гравців. Тобто хочемо зрозуміти, чи переміщення воріт на 10 рівнів пізніше якимось чином вплинуло на те, що користувачі перестають грати в гру раніше чи пізніше з точки зору кількості їх днів з моменту встановлення гри.\n",
        "\n",
        "Будемо працювати з даними з файлу `cookie_cats.csv`. Колонки в даних наступні:\n",
        "\n",
        "- `userid` - унікальний номер, який ідентифікує кожного гравця.\n",
        "- `version` - чи потрапив гравець в контрольну групу (gate_30 - ворота на 30 рівні) чи тестову групу (gate_40 - ворота на 40 рівні).\n",
        "- `sum_gamerounds` - кількість ігрових раундів, зіграних гравцем протягом першого тижня після встановлення\n",
        "- `retention_1` - чи через 1 день після встановлення гравець повернувся і почав грати?\n",
        "- `retention_7` - чи через 7 днів після встановлення гравець повернувся і почав грати?\n",
        "\n",
        "Коли гравець встановлював гру, його випадковим чином призначали до групи gate_30 або gate_40."
      ]
    },
    {
      "cell_type": "markdown",
      "source": [
        "1. Для початку, уявімо, що ми тільки плануємо проведення зазначеного А/B-тесту і хочемо зрозуміти, дані про скількох користувачів нам треба зібрати, аби досягнути відчутного ефекту. Відчутним ефектом ми вважатимемо збільшення утримання на 1% після внесення зміни. Обчисліть, скільки користувачів сумарно нам треба аби досягнути такого ефекту, якщо продакт менеджер нам повідомив, що базове утримання є 19%."
      ],
      "metadata": {
        "id": "XKhHA3eiueo0"
      }
    },
    {
      "cell_type": "code",
      "source": [
        "from google.colab import drive\n",
        "drive.mount('/content/drive')"
      ],
      "metadata": {
        "colab": {
          "base_uri": "https://localhost:8080/"
        },
        "id": "5zam5mDTu7tc",
        "outputId": "042ee538-b21d-421f-b8f4-65faab118e97"
      },
      "execution_count": 1,
      "outputs": [
        {
          "output_type": "stream",
          "name": "stdout",
          "text": [
            "Mounted at /content/drive\n"
          ]
        }
      ]
    },
    {
      "cell_type": "code",
      "source": [
        "import pandas as pd\n",
        "data=pd.read_csv('/content/drive/MyDrive/Colab Notebooks/cookie_cats.csv')"
      ],
      "metadata": {
        "id": "TcZ32BcIufKU"
      },
      "execution_count": 4,
      "outputs": []
    },
    {
      "cell_type": "code",
      "source": [
        "import math\n",
        "from statsmodels.stats.power import NormalIndPower\n",
        "from statsmodels.stats.proportion import proportion_effectsize\n",
        "\n",
        "p1 = 0.19\n",
        "p2 = 0.20\n",
        "alpha = 0.05\n",
        "power = 0.8\n",
        "\n",
        "effect_size = proportion_effectsize(p1, p2)\n",
        "\n",
        "analysis = NormalIndPower()\n",
        "\n",
        "sample_size_per_group = analysis.solve_power(effect_size=effect_size,\n",
        "                                             alpha=alpha,\n",
        "                                             power=power,\n",
        "                                             alternative='two-sided')\n",
        "\n",
        "total_sample_size = math.ceil(sample_size_per_group * 2)\n",
        "\n",
        "print(f\"Необхідно користувачів у кожній групі: {math.ceil(sample_size_per_group)}\")\n",
        "print(f\"Загалом користувачів: {total_sample_size}\")"
      ],
      "metadata": {
        "colab": {
          "base_uri": "https://localhost:8080/"
        },
        "id": "Hg3isRCwv3vZ",
        "outputId": "4e4078af-1b3f-494b-ce73-1c1519495e35"
      },
      "execution_count": 5,
      "outputs": [
        {
          "output_type": "stream",
          "name": "stdout",
          "text": [
            "Необхідно користувачів у кожній групі: 24638\n",
            "Загалом користувачів: 49276\n"
          ]
        }
      ]
    },
    {
      "cell_type": "markdown",
      "metadata": {
        "id": "22f03df4"
      },
      "source": [
        "2. Зчитайте дані АВ тесту у змінну `df` та виведіть середнє значення показника показник `retention_7` (утримання на 7 день) по версіям гри. Сформулюйте гіпотезу: яка версія дає краще утримання через 7 днів після встановлення гри?"
      ]
    },
    {
      "cell_type": "code",
      "source": [
        "retention_7_means = df.groupby('version')['retention_7'].mean()\n",
        "\n",
        "print(\"Середнє значення retention_7 по версіях:\")\n",
        "print(retention_7_means)\n",
        "print(\"\\nРізниця між версіями:\")\n",
        "print(f\"gate_30: {retention_7_means['gate_30']:.4f}\")\n",
        "print(f\"gate_40: {retention_7_means['gate_40']:.4f}\")\n",
        "print(f\"Різниця: {retention_7_means['gate_30'] - retention_7_means['gate_40']:.4f}\")\n",
        "\n",
        "# Версія gate_30 дає краще утримання через 7 днів після встановлення гри, так як\n",
        "# має вищий показник утримання на 7-й день - 19.02%\n",
        "# Версія з воротами на 40-му рівні (gate_40) має нижчий показник - 18.20%\n",
        "# Різниця становить 0.82 процентних пункти на користь версії gate_30"
      ],
      "metadata": {
        "id": "MVzMTs-jh22b",
        "colab": {
          "base_uri": "https://localhost:8080/"
        },
        "outputId": "3c61c3d2-4d28-4f79-db16-ae4cbafcd251"
      },
      "execution_count": 11,
      "outputs": [
        {
          "output_type": "stream",
          "name": "stdout",
          "text": [
            "Середнє значення retention_7 по версіях:\n",
            "version\n",
            "gate_30    0.190201\n",
            "gate_40    0.182000\n",
            "Name: retention_7, dtype: float64\n",
            "\n",
            "Різниця між версіями:\n",
            "gate_30: 0.1902\n",
            "gate_40: 0.1820\n",
            "Різниця: 0.0082\n"
          ]
        }
      ]
    },
    {
      "cell_type": "markdown",
      "metadata": {
        "id": "74e9c6ca"
      },
      "source": [
        "3. Перевірте з допомогою пасуючого варіанту z-тесту, чи дає якась з версій гри кращий показник `retention_7` на рівні значущості 0.05. Обчисліть також довірчі інтервали для варіантів до переміщення воріт і після. Виведіть результат у форматі:\n",
        "\n",
        "    ```\n",
        "    z statistic: ...\n",
        "    p-value: ...\n",
        "    Довірчий інтервал 95% для групи control: [..., ...]\n",
        "    Довірчий інтервал 95% для групи treatment: [..., ...]\n",
        "    ```\n",
        "\n",
        "    де замість `...` - обчислені значення.\n",
        "    \n",
        "    В якості висновку дайте відповідь на два питання:  \n",
        "\n",
        "      1. Чи є статистична значущою різниця між поведінкою користувачів у різних версіях гри?   \n",
        "      2. Чи перетинаються довірчі інтервали утримання користувачів з різних версій гри? Про що це каже?  \n"
      ]
    },
    {
      "cell_type": "code",
      "source": [
        "retention_means = df.groupby(\"version\")[\"retention_7\"].mean()\n",
        "retention_means\n",
        "\n",
        "# 1. Чи є статистично значуща різниця між поведінкою користувачів у різних версіях гри?\n",
        "# Так, оскільки p-value < 0.05. Різниця між групами значна.\n",
        "#  2. Чи перетинаються довірчі інтервали утримання користувачів з різних версій гри? Про що це каже?\n",
        "# Ні, інтервали не перетинаються. Це підтверджує, що утримання у групах відрізняється."
      ],
      "metadata": {
        "id": "kXQE4gyjh5MS",
        "colab": {
          "base_uri": "https://localhost:8080/",
          "height": 176
        },
        "outputId": "9a930f75-52aa-43f6-c066-e8f642451798"
      },
      "execution_count": 9,
      "outputs": [
        {
          "output_type": "execute_result",
          "data": {
            "text/plain": [
              "version\n",
              "gate_30    0.190201\n",
              "gate_40    0.182000\n",
              "Name: retention_7, dtype: float64"
            ],
            "text/html": [
              "<div>\n",
              "<style scoped>\n",
              "    .dataframe tbody tr th:only-of-type {\n",
              "        vertical-align: middle;\n",
              "    }\n",
              "\n",
              "    .dataframe tbody tr th {\n",
              "        vertical-align: top;\n",
              "    }\n",
              "\n",
              "    .dataframe thead th {\n",
              "        text-align: right;\n",
              "    }\n",
              "</style>\n",
              "<table border=\"1\" class=\"dataframe\">\n",
              "  <thead>\n",
              "    <tr style=\"text-align: right;\">\n",
              "      <th></th>\n",
              "      <th>retention_7</th>\n",
              "    </tr>\n",
              "    <tr>\n",
              "      <th>version</th>\n",
              "      <th></th>\n",
              "    </tr>\n",
              "  </thead>\n",
              "  <tbody>\n",
              "    <tr>\n",
              "      <th>gate_30</th>\n",
              "      <td>0.190201</td>\n",
              "    </tr>\n",
              "    <tr>\n",
              "      <th>gate_40</th>\n",
              "      <td>0.182000</td>\n",
              "    </tr>\n",
              "  </tbody>\n",
              "</table>\n",
              "</div><br><label><b>dtype:</b> float64</label>"
            ]
          },
          "metadata": {},
          "execution_count": 9
        }
      ]
    },
    {
      "cell_type": "markdown",
      "metadata": {
        "ExecuteTime": {
          "end_time": "2022-12-10T20:50:10.709766Z",
          "start_time": "2022-12-10T20:50:10.639999Z"
        },
        "id": "076cd867"
      },
      "source": [
        "4. Виконайте тест Хі-квадрат на рівні значущості 5% аби визначити, чи є залежність між версією гри та утриманням гравця на 7ий день після реєстрації.\n",
        "\n",
        "    - Напишіть, як для цього тесту будуть сформульовані гіпотези.\n",
        "    - Проведіть обчислення, виведіть p-значення і напишіть висновок за результатами тесту.\n"
      ]
    },
    {
      "cell_type": "code",
      "source": [],
      "metadata": {
        "id": "kcwD-91Fh84n"
      },
      "execution_count": null,
      "outputs": []
    }
  ]
}