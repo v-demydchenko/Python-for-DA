{
  "nbformat": 4,
  "nbformat_minor": 0,
  "metadata": {
    "colab": {
      "provenance": [],
      "mount_file_id": "1QwXr8IuvdMidDkHEwR5T8_hxFPkWy5un",
      "authorship_tag": "ABX9TyPSTyGjaYAlSw3S9l0ffhhr",
      "include_colab_link": true
    },
    "kernelspec": {
      "name": "python3",
      "display_name": "Python 3"
    },
    "language_info": {
      "name": "python"
    }
  },
  "cells": [
    {
      "cell_type": "markdown",
      "metadata": {
        "id": "view-in-github",
        "colab_type": "text"
      },
      "source": [
        "<a href=\"https://colab.research.google.com/github/v-demydchenko/Python-for-DA/blob/main/EDA_and_deep_analysis.ipynb\" target=\"_parent\"><img src=\"https://colab.research.google.com/assets/colab-badge.svg\" alt=\"Open In Colab\"/></a>"
      ]
    },
    {
      "cell_type": "code",
      "execution_count": 1,
      "metadata": {
        "id": "QLVT_BsqDIGU"
      },
      "outputs": [],
      "source": [
        "import pandas as pd\n",
        "import numpy as np\n",
        "import plotly.express as px\n",
        "import plotly.graph_objects as go\n",
        "from plotly.subplots import make_subplots\n",
        "import matplotlib.pyplot as plt\n",
        "import seaborn as sns"
      ]
    },
    {
      "cell_type": "code",
      "source": [
        "df = pd.read_csv('/content/drive/MyDrive/Colab Notebooks/Фінальний проєк/logistics_shipments_dataset.csv', sep=None, engine='python')"
      ],
      "metadata": {
        "id": "9JXiKU3JDPPO"
      },
      "execution_count": 2,
      "outputs": []
    },
    {
      "cell_type": "markdown",
      "source": [
        "# **Попередня обробка даних (EDA)**"
      ],
      "metadata": {
        "id": "FvwGpHpZU7N8"
      }
    },
    {
      "cell_type": "code",
      "source": [
        "#1. Перевіряємо наявність пропущених значень\n",
        "missing_values = df.isnull().sum()\n",
        "print(missing_values)"
      ],
      "metadata": {
        "colab": {
          "base_uri": "https://localhost:8080/"
        },
        "id": "Z1hlER9WDaZq",
        "outputId": "1bd17ec3-4d42-495d-8e78-7d54450ae3a9"
      },
      "execution_count": 5,
      "outputs": [
        {
          "output_type": "stream",
          "name": "stdout",
          "text": [
            "Shipment_ID          0\n",
            "Origin_Warehouse     0\n",
            "Destination          0\n",
            "Carrier              0\n",
            "Shipment_Date        0\n",
            "Delivery_Date       32\n",
            "Weight_kg            0\n",
            "Cost                41\n",
            "Status               0\n",
            "Distance_miles       0\n",
            "Transit_Days         0\n",
            "dtype: int64\n"
          ]
        }
      ]
    },
    {
      "cell_type": "code",
      "source": [
        "# 2. Замінемо пропущені значення в колонці Cost на середнє\n",
        "df['Cost'] = df['Cost'].fillna(df['Cost'].mean())\n",
        "df['Cost'] = df['Cost'].round(2)\n",
        "# Перевірка після заміни\n",
        "print(\"\\nПропущені значення після заміни:\")\n",
        "print(df.isnull().sum())"
      ],
      "metadata": {
        "colab": {
          "base_uri": "https://localhost:8080/"
        },
        "id": "rFetEIeDi2xL",
        "outputId": "c7fe2f13-ff1f-4814-853b-a9ff97c57b19"
      },
      "execution_count": 8,
      "outputs": [
        {
          "output_type": "stream",
          "name": "stdout",
          "text": [
            "\n",
            "Пропущені значення після заміни:\n",
            "Shipment_ID          0\n",
            "Origin_Warehouse     0\n",
            "Destination          0\n",
            "Carrier              0\n",
            "Shipment_Date        0\n",
            "Delivery_Date       32\n",
            "Weight_kg            0\n",
            "Cost                 0\n",
            "Status               0\n",
            "Distance_miles       0\n",
            "Transit_Days         0\n",
            "dtype: int64\n"
          ]
        }
      ]
    },
    {
      "cell_type": "code",
      "source": [
        "# 3. Перевіряємо типи даний\n",
        "data_types = df.dtypes\n",
        "print(data_types)"
      ],
      "metadata": {
        "colab": {
          "base_uri": "https://localhost:8080/"
        },
        "id": "0Bo5bfUCEFDY",
        "outputId": "802b1905-2465-4ac7-8d74-b9732f904e36"
      },
      "execution_count": 11,
      "outputs": [
        {
          "output_type": "stream",
          "name": "stdout",
          "text": [
            "Shipment_ID          object\n",
            "Origin_Warehouse     object\n",
            "Destination          object\n",
            "Carrier              object\n",
            "Shipment_Date        object\n",
            "Delivery_Date        object\n",
            "Weight_kg           float64\n",
            "Cost                float64\n",
            "Status               object\n",
            "Distance_miles        int64\n",
            "Transit_Days          int64\n",
            "dtype: object\n"
          ]
        }
      ]
    },
    {
      "cell_type": "code",
      "source": [
        "# 4. Перетворюємо 'Delivery_Date' та 'Shipment_Date' з типу 'object' на тип 'datatime'\n",
        "df['Delivery_Date'] = pd.to_datetime(df['Delivery_Date'])\n",
        "df['Shipment_Date'] = pd.to_datetime(df['Shipment_Date'])"
      ],
      "metadata": {
        "id": "XQnHGz9rFyvn"
      },
      "execution_count": 12,
      "outputs": []
    },
    {
      "cell_type": "code",
      "source": [
        "# Перевіряємо тип\n",
        "print(df[['Delivery_Date', 'Shipment_Date']].dtypes)"
      ],
      "metadata": {
        "colab": {
          "base_uri": "https://localhost:8080/"
        },
        "id": "Pmdzp93LYu57",
        "outputId": "779848a8-9090-461e-9441-7f79857eba49"
      },
      "execution_count": 17,
      "outputs": [
        {
          "output_type": "stream",
          "name": "stdout",
          "text": [
            "Delivery_Date    datetime64[ns]\n",
            "Shipment_Date    datetime64[ns]\n",
            "dtype: object\n"
          ]
        }
      ]
    },
    {
      "cell_type": "code",
      "source": [
        "# 5. Замінемо пропущені значення в колонці 'Delivery_Date' шляхом додавання до колонки 'Shipment_Date' колонки 'Transit_Days'\n",
        "\n",
        "df['Delivery_Date'] = df.apply(\n",
        "    lambda row: row['Shipment_Date'] + pd.Timedelta(days=row['Transit_Days']) if pd.isnull(row['Delivery_Date']) else row['Delivery_Date'], axis=1\n",
        ")\n",
        "\n",
        "# Перевіряємо результат\n",
        "print(df[['Shipment_Date', 'Transit_Days', 'Delivery_Date']].head())"
      ],
      "metadata": {
        "colab": {
          "base_uri": "https://localhost:8080/"
        },
        "id": "avkvgEsOYH8P",
        "outputId": "7dd6d145-01ee-4617-9215-0c31aaeffa1e"
      },
      "execution_count": 13,
      "outputs": [
        {
          "output_type": "stream",
          "name": "stdout",
          "text": [
            "  Shipment_Date  Transit_Days Delivery_Date\n",
            "0    2023-10-02             2    2023-10-04\n",
            "1    2023-12-06             3    2023-12-09\n",
            "2    2023-09-18             2    2023-09-20\n",
            "3    2023-01-26             9    2023-02-04\n",
            "4    2023-06-03             3    2023-06-06\n"
          ]
        }
      ]
    },
    {
      "cell_type": "code",
      "source": [
        "# Знову перевіряємо наявність пропущених значень\n",
        "missing_values = df.isnull().sum()\n",
        "print(missing_values)"
      ],
      "metadata": {
        "colab": {
          "base_uri": "https://localhost:8080/"
        },
        "id": "U0ORqEMmYZES",
        "outputId": "2a07a78c-23dc-44e4-fc2b-0c5b7a1bdf00"
      },
      "execution_count": 18,
      "outputs": [
        {
          "output_type": "stream",
          "name": "stdout",
          "text": [
            "Shipment_ID         0\n",
            "Origin_Warehouse    0\n",
            "Destination         0\n",
            "Carrier             0\n",
            "Shipment_Date       0\n",
            "Delivery_Date       0\n",
            "Weight_kg           0\n",
            "Cost                0\n",
            "Status              0\n",
            "Distance_miles      0\n",
            "Transit_Days        0\n",
            "dtype: int64\n"
          ]
        }
      ]
    },
    {
      "cell_type": "code",
      "source": [
        "# 6. Основні статистичні показники\n",
        "summary_statistics = df.describe()\n",
        "print(summary_statistics)"
      ],
      "metadata": {
        "colab": {
          "base_uri": "https://localhost:8080/"
        },
        "id": "N-Gx077IHD5W",
        "outputId": "6a449052-ee00-4f85-fee6-6bf0aa7f7693"
      },
      "execution_count": 19,
      "outputs": [
        {
          "output_type": "stream",
          "name": "stdout",
          "text": [
            "             Shipment_Date                  Delivery_Date    Weight_kg  \\\n",
            "count                 2000                           2000  2000.000000   \n",
            "mean   2023-07-05 12:00:00  2023-07-10 02:32:38.400000256    30.184800   \n",
            "min    2023-01-01 00:00:00            2023-01-03 00:00:00     0.000000   \n",
            "25%    2023-04-05 18:00:00            2023-04-11 00:00:00    12.300000   \n",
            "50%    2023-07-07 00:00:00            2023-07-11 12:00:00    20.700000   \n",
            "75%    2023-10-04 00:00:00            2023-10-08 00:00:00    33.925000   \n",
            "max    2023-12-31 00:00:00            2024-01-12 00:00:00  5404.200000   \n",
            "std                    NaN                            NaN   124.967053   \n",
            "\n",
            "              Cost  Distance_miles  Transit_Days  \n",
            "count  2000.000000     2000.000000   2000.000000  \n",
            "mean    205.161565     1275.868000      4.182500  \n",
            "min      17.890000      101.000000      1.000000  \n",
            "25%     119.220000      690.250000      3.000000  \n",
            "50%     199.530000     1262.500000      4.000000  \n",
            "75%     271.450000     1867.250000      5.000000  \n",
            "max    6562.210000     2499.000000     12.000000  \n",
            "std     220.291608      691.382829      1.837902  \n"
          ]
        }
      ]
    },
    {
      "cell_type": "code",
      "source": [
        "# 7. Перевірка на дублікати\n",
        "duplicates = df.duplicated().sum()\n",
        "print(f'Кількість дублікованих рядків: {duplicates}')"
      ],
      "metadata": {
        "colab": {
          "base_uri": "https://localhost:8080/"
        },
        "id": "j-MWpJAWKFf1",
        "outputId": "849a664c-13d6-4bca-e5ad-8dd11dfa8306"
      },
      "execution_count": 20,
      "outputs": [
        {
          "output_type": "stream",
          "name": "stdout",
          "text": [
            "Кількість дублікованих рядків: 0\n"
          ]
        }
      ]
    },
    {
      "cell_type": "markdown",
      "source": [
        "# **Аналіз даних**"
      ],
      "metadata": {
        "id": "UPbsuEI_Vqob"
      }
    },
    {
      "cell_type": "markdown",
      "source": [
        "***Загальна вартість перевезення 1 кг. вантажу для кожного перевізника***"
      ],
      "metadata": {
        "id": "qDCozAONY71s"
      }
    },
    {
      "cell_type": "code",
      "source": [
        "data_cleaned = df[(df['Weight_kg'] > 0) & (df['Cost'] > 0)]\n",
        "\n",
        "data_cleaned['Cost_per_kg'] = data_cleaned['Cost'] / data_cleaned['Weight_kg']\n",
        "\n",
        "carrier_costs = data_cleaned.groupby('Carrier')['Cost_per_kg'].mean().round(2).reset_index()\n",
        "\n",
        "carrier_costs.sort_values(by='Cost_per_kg', ascending=False)"
      ],
      "metadata": {
        "colab": {
          "base_uri": "https://localhost:8080/",
          "height": 368
        },
        "id": "8_PbzkhGVwOF",
        "outputId": "566f6255-7bed-4627-8ccf-e32e67423efd"
      },
      "execution_count": 21,
      "outputs": [
        {
          "output_type": "stream",
          "name": "stderr",
          "text": [
            "/tmp/ipython-input-2443425103.py:3: SettingWithCopyWarning: \n",
            "A value is trying to be set on a copy of a slice from a DataFrame.\n",
            "Try using .loc[row_indexer,col_indexer] = value instead\n",
            "\n",
            "See the caveats in the documentation: https://pandas.pydata.org/pandas-docs/stable/user_guide/indexing.html#returning-a-view-versus-a-copy\n",
            "  data_cleaned['Cost_per_kg'] = data_cleaned['Cost'] / data_cleaned['Weight_kg']\n"
          ]
        },
        {
          "output_type": "execute_result",
          "data": {
            "text/plain": [
              "            Carrier  Cost_per_kg\n",
              "5               UPS        17.82\n",
              "2             FedEx        17.56\n",
              "4            OnTrac        14.01\n",
              "1               DHL        13.25\n",
              "3         LaserShip        13.23\n",
              "0  Amazon Logistics        11.36\n",
              "6              USPS        11.03"
            ],
            "text/html": [
              "\n",
              "  <div id=\"df-78233486-5753-4101-ab5d-471eb48293f5\" class=\"colab-df-container\">\n",
              "    <div>\n",
              "<style scoped>\n",
              "    .dataframe tbody tr th:only-of-type {\n",
              "        vertical-align: middle;\n",
              "    }\n",
              "\n",
              "    .dataframe tbody tr th {\n",
              "        vertical-align: top;\n",
              "    }\n",
              "\n",
              "    .dataframe thead th {\n",
              "        text-align: right;\n",
              "    }\n",
              "</style>\n",
              "<table border=\"1\" class=\"dataframe\">\n",
              "  <thead>\n",
              "    <tr style=\"text-align: right;\">\n",
              "      <th></th>\n",
              "      <th>Carrier</th>\n",
              "      <th>Cost_per_kg</th>\n",
              "    </tr>\n",
              "  </thead>\n",
              "  <tbody>\n",
              "    <tr>\n",
              "      <th>5</th>\n",
              "      <td>UPS</td>\n",
              "      <td>17.82</td>\n",
              "    </tr>\n",
              "    <tr>\n",
              "      <th>2</th>\n",
              "      <td>FedEx</td>\n",
              "      <td>17.56</td>\n",
              "    </tr>\n",
              "    <tr>\n",
              "      <th>4</th>\n",
              "      <td>OnTrac</td>\n",
              "      <td>14.01</td>\n",
              "    </tr>\n",
              "    <tr>\n",
              "      <th>1</th>\n",
              "      <td>DHL</td>\n",
              "      <td>13.25</td>\n",
              "    </tr>\n",
              "    <tr>\n",
              "      <th>3</th>\n",
              "      <td>LaserShip</td>\n",
              "      <td>13.23</td>\n",
              "    </tr>\n",
              "    <tr>\n",
              "      <th>0</th>\n",
              "      <td>Amazon Logistics</td>\n",
              "      <td>11.36</td>\n",
              "    </tr>\n",
              "    <tr>\n",
              "      <th>6</th>\n",
              "      <td>USPS</td>\n",
              "      <td>11.03</td>\n",
              "    </tr>\n",
              "  </tbody>\n",
              "</table>\n",
              "</div>\n",
              "    <div class=\"colab-df-buttons\">\n",
              "\n",
              "  <div class=\"colab-df-container\">\n",
              "    <button class=\"colab-df-convert\" onclick=\"convertToInteractive('df-78233486-5753-4101-ab5d-471eb48293f5')\"\n",
              "            title=\"Convert this dataframe to an interactive table.\"\n",
              "            style=\"display:none;\">\n",
              "\n",
              "  <svg xmlns=\"http://www.w3.org/2000/svg\" height=\"24px\" viewBox=\"0 -960 960 960\">\n",
              "    <path d=\"M120-120v-720h720v720H120Zm60-500h600v-160H180v160Zm220 220h160v-160H400v160Zm0 220h160v-160H400v160ZM180-400h160v-160H180v160Zm440 0h160v-160H620v160ZM180-180h160v-160H180v160Zm440 0h160v-160H620v160Z\"/>\n",
              "  </svg>\n",
              "    </button>\n",
              "\n",
              "  <style>\n",
              "    .colab-df-container {\n",
              "      display:flex;\n",
              "      gap: 12px;\n",
              "    }\n",
              "\n",
              "    .colab-df-convert {\n",
              "      background-color: #E8F0FE;\n",
              "      border: none;\n",
              "      border-radius: 50%;\n",
              "      cursor: pointer;\n",
              "      display: none;\n",
              "      fill: #1967D2;\n",
              "      height: 32px;\n",
              "      padding: 0 0 0 0;\n",
              "      width: 32px;\n",
              "    }\n",
              "\n",
              "    .colab-df-convert:hover {\n",
              "      background-color: #E2EBFA;\n",
              "      box-shadow: 0px 1px 2px rgba(60, 64, 67, 0.3), 0px 1px 3px 1px rgba(60, 64, 67, 0.15);\n",
              "      fill: #174EA6;\n",
              "    }\n",
              "\n",
              "    .colab-df-buttons div {\n",
              "      margin-bottom: 4px;\n",
              "    }\n",
              "\n",
              "    [theme=dark] .colab-df-convert {\n",
              "      background-color: #3B4455;\n",
              "      fill: #D2E3FC;\n",
              "    }\n",
              "\n",
              "    [theme=dark] .colab-df-convert:hover {\n",
              "      background-color: #434B5C;\n",
              "      box-shadow: 0px 1px 3px 1px rgba(0, 0, 0, 0.15);\n",
              "      filter: drop-shadow(0px 1px 2px rgba(0, 0, 0, 0.3));\n",
              "      fill: #FFFFFF;\n",
              "    }\n",
              "  </style>\n",
              "\n",
              "    <script>\n",
              "      const buttonEl =\n",
              "        document.querySelector('#df-78233486-5753-4101-ab5d-471eb48293f5 button.colab-df-convert');\n",
              "      buttonEl.style.display =\n",
              "        google.colab.kernel.accessAllowed ? 'block' : 'none';\n",
              "\n",
              "      async function convertToInteractive(key) {\n",
              "        const element = document.querySelector('#df-78233486-5753-4101-ab5d-471eb48293f5');\n",
              "        const dataTable =\n",
              "          await google.colab.kernel.invokeFunction('convertToInteractive',\n",
              "                                                    [key], {});\n",
              "        if (!dataTable) return;\n",
              "\n",
              "        const docLinkHtml = 'Like what you see? Visit the ' +\n",
              "          '<a target=\"_blank\" href=https://colab.research.google.com/notebooks/data_table.ipynb>data table notebook</a>'\n",
              "          + ' to learn more about interactive tables.';\n",
              "        element.innerHTML = '';\n",
              "        dataTable['output_type'] = 'display_data';\n",
              "        await google.colab.output.renderOutput(dataTable, element);\n",
              "        const docLink = document.createElement('div');\n",
              "        docLink.innerHTML = docLinkHtml;\n",
              "        element.appendChild(docLink);\n",
              "      }\n",
              "    </script>\n",
              "  </div>\n",
              "\n",
              "\n",
              "    <div id=\"df-59c486ea-65e7-4577-98bf-156dda70f709\">\n",
              "      <button class=\"colab-df-quickchart\" onclick=\"quickchart('df-59c486ea-65e7-4577-98bf-156dda70f709')\"\n",
              "                title=\"Suggest charts\"\n",
              "                style=\"display:none;\">\n",
              "\n",
              "<svg xmlns=\"http://www.w3.org/2000/svg\" height=\"24px\"viewBox=\"0 0 24 24\"\n",
              "     width=\"24px\">\n",
              "    <g>\n",
              "        <path d=\"M19 3H5c-1.1 0-2 .9-2 2v14c0 1.1.9 2 2 2h14c1.1 0 2-.9 2-2V5c0-1.1-.9-2-2-2zM9 17H7v-7h2v7zm4 0h-2V7h2v10zm4 0h-2v-4h2v4z\"/>\n",
              "    </g>\n",
              "</svg>\n",
              "      </button>\n",
              "\n",
              "<style>\n",
              "  .colab-df-quickchart {\n",
              "      --bg-color: #E8F0FE;\n",
              "      --fill-color: #1967D2;\n",
              "      --hover-bg-color: #E2EBFA;\n",
              "      --hover-fill-color: #174EA6;\n",
              "      --disabled-fill-color: #AAA;\n",
              "      --disabled-bg-color: #DDD;\n",
              "  }\n",
              "\n",
              "  [theme=dark] .colab-df-quickchart {\n",
              "      --bg-color: #3B4455;\n",
              "      --fill-color: #D2E3FC;\n",
              "      --hover-bg-color: #434B5C;\n",
              "      --hover-fill-color: #FFFFFF;\n",
              "      --disabled-bg-color: #3B4455;\n",
              "      --disabled-fill-color: #666;\n",
              "  }\n",
              "\n",
              "  .colab-df-quickchart {\n",
              "    background-color: var(--bg-color);\n",
              "    border: none;\n",
              "    border-radius: 50%;\n",
              "    cursor: pointer;\n",
              "    display: none;\n",
              "    fill: var(--fill-color);\n",
              "    height: 32px;\n",
              "    padding: 0;\n",
              "    width: 32px;\n",
              "  }\n",
              "\n",
              "  .colab-df-quickchart:hover {\n",
              "    background-color: var(--hover-bg-color);\n",
              "    box-shadow: 0 1px 2px rgba(60, 64, 67, 0.3), 0 1px 3px 1px rgba(60, 64, 67, 0.15);\n",
              "    fill: var(--button-hover-fill-color);\n",
              "  }\n",
              "\n",
              "  .colab-df-quickchart-complete:disabled,\n",
              "  .colab-df-quickchart-complete:disabled:hover {\n",
              "    background-color: var(--disabled-bg-color);\n",
              "    fill: var(--disabled-fill-color);\n",
              "    box-shadow: none;\n",
              "  }\n",
              "\n",
              "  .colab-df-spinner {\n",
              "    border: 2px solid var(--fill-color);\n",
              "    border-color: transparent;\n",
              "    border-bottom-color: var(--fill-color);\n",
              "    animation:\n",
              "      spin 1s steps(1) infinite;\n",
              "  }\n",
              "\n",
              "  @keyframes spin {\n",
              "    0% {\n",
              "      border-color: transparent;\n",
              "      border-bottom-color: var(--fill-color);\n",
              "      border-left-color: var(--fill-color);\n",
              "    }\n",
              "    20% {\n",
              "      border-color: transparent;\n",
              "      border-left-color: var(--fill-color);\n",
              "      border-top-color: var(--fill-color);\n",
              "    }\n",
              "    30% {\n",
              "      border-color: transparent;\n",
              "      border-left-color: var(--fill-color);\n",
              "      border-top-color: var(--fill-color);\n",
              "      border-right-color: var(--fill-color);\n",
              "    }\n",
              "    40% {\n",
              "      border-color: transparent;\n",
              "      border-right-color: var(--fill-color);\n",
              "      border-top-color: var(--fill-color);\n",
              "    }\n",
              "    60% {\n",
              "      border-color: transparent;\n",
              "      border-right-color: var(--fill-color);\n",
              "    }\n",
              "    80% {\n",
              "      border-color: transparent;\n",
              "      border-right-color: var(--fill-color);\n",
              "      border-bottom-color: var(--fill-color);\n",
              "    }\n",
              "    90% {\n",
              "      border-color: transparent;\n",
              "      border-bottom-color: var(--fill-color);\n",
              "    }\n",
              "  }\n",
              "</style>\n",
              "\n",
              "      <script>\n",
              "        async function quickchart(key) {\n",
              "          const quickchartButtonEl =\n",
              "            document.querySelector('#' + key + ' button');\n",
              "          quickchartButtonEl.disabled = true;  // To prevent multiple clicks.\n",
              "          quickchartButtonEl.classList.add('colab-df-spinner');\n",
              "          try {\n",
              "            const charts = await google.colab.kernel.invokeFunction(\n",
              "                'suggestCharts', [key], {});\n",
              "          } catch (error) {\n",
              "            console.error('Error during call to suggestCharts:', error);\n",
              "          }\n",
              "          quickchartButtonEl.classList.remove('colab-df-spinner');\n",
              "          quickchartButtonEl.classList.add('colab-df-quickchart-complete');\n",
              "        }\n",
              "        (() => {\n",
              "          let quickchartButtonEl =\n",
              "            document.querySelector('#df-59c486ea-65e7-4577-98bf-156dda70f709 button');\n",
              "          quickchartButtonEl.style.display =\n",
              "            google.colab.kernel.accessAllowed ? 'block' : 'none';\n",
              "        })();\n",
              "      </script>\n",
              "    </div>\n",
              "    </div>\n",
              "  </div>\n"
            ],
            "application/vnd.google.colaboratory.intrinsic+json": {
              "type": "dataframe",
              "summary": "{\n  \"name\": \"carrier_costs\",\n  \"rows\": 7,\n  \"fields\": [\n    {\n      \"column\": \"Carrier\",\n      \"properties\": {\n        \"dtype\": \"string\",\n        \"num_unique_values\": 7,\n        \"samples\": [\n          \"UPS\",\n          \"FedEx\",\n          \"Amazon Logistics\"\n        ],\n        \"semantic_type\": \"\",\n        \"description\": \"\"\n      }\n    },\n    {\n      \"column\": \"Cost_per_kg\",\n      \"properties\": {\n        \"dtype\": \"number\",\n        \"std\": 2.7142323303020954,\n        \"min\": 11.03,\n        \"max\": 17.82,\n        \"num_unique_values\": 7,\n        \"samples\": [\n          17.82,\n          17.56,\n          11.36\n        ],\n        \"semantic_type\": \"\",\n        \"description\": \"\"\n      }\n    }\n  ]\n}"
            }
          },
          "metadata": {},
          "execution_count": 21
        }
      ]
    },
    {
      "cell_type": "markdown",
      "source": [
        "***Середній час доставки в днях (середній час, який проходить від дати відправлення до дати доставки)***"
      ],
      "metadata": {
        "id": "Uc9faariZLln"
      }
    },
    {
      "cell_type": "code",
      "source": [
        "df['Shipment_Date'] = pd.to_datetime(df['Shipment_Date'])\n",
        "df['Delivery_Date'] = pd.to_datetime(df['Delivery_Date'])\n",
        "df['Delivery_Time'] = (df['Delivery_Date'] - df['Shipment_Date']).dt.days\n",
        "avg_delivery_time = df['Delivery_Time'].mean()\n",
        "avg_delivery_time"
      ],
      "metadata": {
        "colab": {
          "base_uri": "https://localhost:8080/"
        },
        "id": "8ihm5pu1VwJz",
        "outputId": "fdd406a7-d842-4fb3-c686-4fe1aaee25b9"
      },
      "execution_count": 22,
      "outputs": [
        {
          "output_type": "execute_result",
          "data": {
            "text/plain": [
              "np.float64(4.606)"
            ]
          },
          "metadata": {},
          "execution_count": 22
        }
      ]
    },
    {
      "cell_type": "markdown",
      "source": [
        "***Кореляція між вагою вантажу та витратами на доставку та побудова графіка для візуалізації кореляції***"
      ],
      "metadata": {
        "id": "Y14-H2LzZnvF"
      }
    },
    {
      "cell_type": "code",
      "source": [
        "correlation_weight_cost = df[['Weight_kg', 'Cost']].corr().iloc[0, 1]\n",
        "\n",
        "plt.figure(figsize=(8, 6))\n",
        "plt.scatter(df['Weight_kg'], df['Cost'], alpha=0.6, edgecolors='w', linewidth=0.5)\n",
        "plt.title(f\"Кореляція між вагою і вартістю: {correlation_weight_cost:.2f}\")\n",
        "plt.xlabel(\"Вага (кг)\")\n",
        "plt.ylabel(\"Вартість\")\n",
        "plt.grid(True)\n",
        "plt.show()"
      ],
      "metadata": {
        "colab": {
          "base_uri": "https://localhost:8080/",
          "height": 564
        },
        "id": "eB_D511gVwHa",
        "outputId": "7e59ab16-d62b-403c-c718-5c71df5ed0ae"
      },
      "execution_count": 23,
      "outputs": [
        {
          "output_type": "display_data",
          "data": {
            "text/plain": [
              "<Figure size 800x600 with 1 Axes>"
            ],
            "image/png": "[encoded data removed]"
          },
          "metadata": {}
        }
      ]
    },
    {
      "cell_type": "markdown",
      "source": [
        "Значення кореляції між вагою вантажу та вартістю доставки становить 0.02. Це дуже низьке значення, що вказує на майже відсутність кореляції між цими двома змінними. Тобто, вага вантажу не має значного впливу на вартість доставки."
      ],
      "metadata": {
        "id": "iEQHpfiHgP4j"
      }
    },
    {
      "cell_type": "markdown",
      "source": [
        "***Загальна вартість доставки для кожного міста призначення***"
      ],
      "metadata": {
        "id": "So1BItP1Z6VH"
      }
    },
    {
      "cell_type": "code",
      "source": [
        "total_cost_by_destination = df.groupby('Destination')['Cost'].mean().round(0)\n",
        "total_cost_by_destination"
      ],
      "metadata": {
        "colab": {
          "base_uri": "https://localhost:8080/",
          "height": 579
        },
        "id": "nrM7pEi2VwFN",
        "outputId": "7364f7a0-500b-486b-fc27-c7ddd9739256"
      },
      "execution_count": 24,
      "outputs": [
        {
          "output_type": "execute_result",
          "data": {
            "text/plain": [
              "Destination\n",
              "Atlanta          189.0\n",
              "Boston           228.0\n",
              "Chicago          200.0\n",
              "Dallas           201.0\n",
              "Denver           175.0\n",
              "Detroit          232.0\n",
              "Houston          205.0\n",
              "Los Angeles      197.0\n",
              "Miami            202.0\n",
              "Minneapolis      200.0\n",
              "New York         200.0\n",
              "Phoenix          188.0\n",
              "Portland         210.0\n",
              "San Francisco    249.0\n",
              "Seattle          208.0\n",
              "Name: Cost, dtype: float64"
            ],
            "text/html": [
              "<div>\n",
              "<style scoped>\n",
              "    .dataframe tbody tr th:only-of-type {\n",
              "        vertical-align: middle;\n",
              "    }\n",
              "\n",
              "    .dataframe tbody tr th {\n",
              "        vertical-align: top;\n",
              "    }\n",
              "\n",
              "    .dataframe thead th {\n",
              "        text-align: right;\n",
              "    }\n",
              "</style>\n",
              "<table border=\"1\" class=\"dataframe\">\n",
              "  <thead>\n",
              "    <tr style=\"text-align: right;\">\n",
              "      <th></th>\n",
              "      <th>Cost</th>\n",
              "    </tr>\n",
              "    <tr>\n",
              "      <th>Destination</th>\n",
              "      <th></th>\n",
              "    </tr>\n",
              "  </thead>\n",
              "  <tbody>\n",
              "    <tr>\n",
              "      <th>Atlanta</th>\n",
              "      <td>189.0</td>\n",
              "    </tr>\n",
              "    <tr>\n",
              "      <th>Boston</th>\n",
              "      <td>228.0</td>\n",
              "    </tr>\n",
              "    <tr>\n",
              "      <th>Chicago</th>\n",
              "      <td>200.0</td>\n",
              "    </tr>\n",
              "    <tr>\n",
              "      <th>Dallas</th>\n",
              "      <td>201.0</td>\n",
              "    </tr>\n",
              "    <tr>\n",
              "      <th>Denver</th>\n",
              "      <td>175.0</td>\n",
              "    </tr>\n",
              "    <tr>\n",
              "      <th>Detroit</th>\n",
              "      <td>232.0</td>\n",
              "    </tr>\n",
              "    <tr>\n",
              "      <th>Houston</th>\n",
              "      <td>205.0</td>\n",
              "    </tr>\n",
              "    <tr>\n",
              "      <th>Los Angeles</th>\n",
              "      <td>197.0</td>\n",
              "    </tr>\n",
              "    <tr>\n",
              "      <th>Miami</th>\n",
              "      <td>202.0</td>\n",
              "    </tr>\n",
              "    <tr>\n",
              "      <th>Minneapolis</th>\n",
              "      <td>200.0</td>\n",
              "    </tr>\n",
              "    <tr>\n",
              "      <th>New York</th>\n",
              "      <td>200.0</td>\n",
              "    </tr>\n",
              "    <tr>\n",
              "      <th>Phoenix</th>\n",
              "      <td>188.0</td>\n",
              "    </tr>\n",
              "    <tr>\n",
              "      <th>Portland</th>\n",
              "      <td>210.0</td>\n",
              "    </tr>\n",
              "    <tr>\n",
              "      <th>San Francisco</th>\n",
              "      <td>249.0</td>\n",
              "    </tr>\n",
              "    <tr>\n",
              "      <th>Seattle</th>\n",
              "      <td>208.0</td>\n",
              "    </tr>\n",
              "  </tbody>\n",
              "</table>\n",
              "</div><br><label><b>dtype:</b> float64</label>"
            ]
          },
          "metadata": {},
          "execution_count": 24
        }
      ]
    },
    {
      "cell_type": "markdown",
      "source": [
        "***Визначаємо найкращого перевізника з урахуванням вартості, часу доставки та частки втрат (Lost)***"
      ],
      "metadata": {
        "id": "11DwX1EibUHa"
      }
    },
    {
      "cell_type": "code",
      "source": [
        "# Сортуємо перевізників за композитним балом з урахуванням вартості, часу доставки та частки втрат (Lost).\n",
        "# Вищий бал — кращий перевізник\n",
        "# 1. Агрегації по перевізнику\n",
        "agg = (\n",
        "    df.assign(IsLost=df['Status'].str.lower().eq('lost'))\n",
        "      .groupby('Carrier', as_index=False)\n",
        "      .agg(\n",
        "          avg_cost=('Cost', 'mean'),\n",
        "          avg_transit_days=('Transit_Days', 'mean'),\n",
        "          lost_rate=('IsLost', 'mean'),\n",
        "          shipments=('Shipment_ID', 'count')\n",
        "      )\n",
        ")\n",
        "\n",
        "# 2. Безпечна мін-макс нормалізація (0..1)\n",
        "def minmax(s: pd.Series) -> pd.Series:\n",
        "    rng = s.max() - s.min()\n",
        "    return (s - s.min()) / rng if rng != 0 else pd.Series(0.0, index=s.index)\n",
        "\n",
        "# 3. Оцінки (менше краще - інвертуємо, щоб \"більше — краще\")\n",
        "agg['cost_score'] = 1 - minmax(agg['avg_cost'])\n",
        "agg['time_score'] = 1 - minmax(agg['avg_transit_days'])\n",
        "# lost_rate уже у [0,1], де 0 — краще (менше втрат). Інвертуємо напряму:\n",
        "agg['lost_score'] = 1 - agg['lost_rate']\n",
        "\n",
        "# 4. Ваги критеріїв (налаштовуйте за потреби)\n",
        "w_cost, w_time, w_lost = 0.5, 0.3, 0.2\n",
        "\n",
        "# 5. Композитний бал і ранжування\n",
        "agg['score'] = (\n",
        "    w_cost * agg['cost_score'] +\n",
        "    w_time * agg['time_score'] +\n",
        "    w_lost * agg['lost_score']\n",
        ")\n",
        "\n",
        "result = agg.sort_values('score', ascending=False).reset_index(drop=True)\n",
        "\n",
        "# 6. Вивід таблиці з ключовими метриками\n",
        "print(\n",
        "    result[['Carrier', 'shipments', 'avg_cost', 'avg_transit_days', 'lost_rate', 'score']]\n",
        "    .round({'avg_cost': 2, 'avg_transit_days': 2, 'lost_rate': 3, 'score': 3})\n",
        ")\n",
        "\n",
        "# 7. Рекомендований перевізник\n",
        "best = result.loc[0, 'Carrier']\n",
        "print(f\"Рекомендований перевізник: {best}\")\n",
        "\n",
        "# 8. Графік композитного бала по перевізниках\n",
        "plt.figure(figsize=(8, 5))\n",
        "plt.bar(result['Carrier'], result['score'])\n",
        "plt.ylabel('Композитний бал (вище — краще)')\n",
        "plt.xlabel('Перевізник')\n",
        "plt.xticks(rotation=45)\n",
        "plt.tight_layout()\n",
        "plt.show()"
      ],
      "metadata": {
        "colab": {
          "base_uri": "https://localhost:8080/",
          "height": 660
        },
        "id": "2jbm-hwaVwCx",
        "outputId": "5602c123-9929-4ac6-d64c-8fc425f6112e"
      },
      "execution_count": 25,
      "outputs": [
        {
          "output_type": "stream",
          "name": "stdout",
          "text": [
            "            Carrier  shipments  avg_cost  avg_transit_days  lost_rate  score\n",
            "0              USPS        292    183.51              4.05      0.041  0.980\n",
            "1            OnTrac        299    184.87              4.12      0.013  0.898\n",
            "2         LaserShip        303    207.80              4.04      0.033  0.728\n",
            "3  Amazon Logistics        274    194.20              4.32      0.044  0.574\n",
            "4             FedEx        295    217.92              4.30      0.020  0.344\n",
            "5               DHL        281    221.77              4.27      0.004  0.337\n",
            "6               UPS        256    229.23              4.20      0.000  0.331\n",
            "Рекомендований перевізник: USPS\n"
          ]
        },
        {
          "output_type": "display_data",
          "data": {
            "text/plain": [
              "<Figure size 800x500 with 1 Axes>"
            ],
            "image/png": "[encoded data removed]"
          },
          "metadata": {}
        }
      ]
    },
    {
      "cell_type": "markdown",
      "source": [
        "На даному графіку чітко видно, що лідером стала компанія-перевізник USPS"
      ],
      "metadata": {
        "id": "ZeksyIfbgeQJ"
      }
    },
    {
      "cell_type": "markdown",
      "source": [
        "***Прогнозуємо витрати на доставку для кожного перевізника на основі статусу 'Delivered'***"
      ],
      "metadata": {
        "id": "5yUcabn4cA7G"
      }
    },
    {
      "cell_type": "code",
      "source": [
        "import pandas as pd\n",
        "from sklearn.model_selection import train_test_split\n",
        "from sklearn.ensemble import RandomForestRegressor\n",
        "from sklearn.metrics import mean_absolute_error, mean_squared_error\n",
        "from sklearn.preprocessing import StandardScaler\n",
        "\n",
        "# 1) Функція для прогнозування витрат тільки для статусу \"Delivered\"\n",
        "def predict_cost_by_carrier_for_delivered(df):\n",
        "    # Створення порожнього DataFrame для збереження результатів\n",
        "    results = []\n",
        "\n",
        "    # Фільтруємо тільки ті записи, де статус \"Delivered\"\n",
        "    delivered_data = df[df['Status'].str.lower() == 'delivered']\n",
        "\n",
        "    # Унікальні перевізники\n",
        "    carriers = delivered_data['Carrier'].unique()\n",
        "\n",
        "    # 2) Тренування моделі для кожного перевізника\n",
        "    for carrier in carriers:\n",
        "        carrier_data = delivered_data[delivered_data['Carrier'] == carrier]\n",
        "\n",
        "        # Перевірка, скільки записів для кожного перевізника зі статусом \"Delivered\"\n",
        "        print(f\"Перевізник: {carrier}, Кількість записів: {len(carrier_data)}\")\n",
        "\n",
        "        if len(carrier_data) < 2:  # Пропуск перевізників, де мало даних\n",
        "            continue\n",
        "\n",
        "        # Вибір ознак для моделі\n",
        "        features = ['Weight_kg', 'Transit_Days', 'Distance_miles']\n",
        "        X = carrier_data[features]\n",
        "        y = carrier_data['Cost']\n",
        "\n",
        "        # Масштабування числових змінних\n",
        "        scaler = StandardScaler()\n",
        "        X_scaled = scaler.fit_transform(X)\n",
        "\n",
        "        # Розподіл на тренувальну і тестову вибірки\n",
        "        X_train, X_test, y_train, y_test = train_test_split(X_scaled, y, test_size=0.2, random_state=42)\n",
        "\n",
        "        # Створення моделі RandomForestRegressor\n",
        "        model = RandomForestRegressor(n_estimators=100, random_state=42)\n",
        "        model.fit(X_train, y_train)\n",
        "\n",
        "        # Прогнозування на тестовій вибірці\n",
        "        y_pred = model.predict(X_test)\n",
        "\n",
        "        # Оцінка моделі\n",
        "        mae = mean_absolute_error(y_test, y_pred)\n",
        "        rmse = np.sqrt(mean_squared_error(y_test, y_pred))\n",
        "\n",
        "        # Додавання фактичних витрат і прогнозованих витрат\n",
        "        carrier_results = pd.DataFrame({\n",
        "            'Carrier': [carrier] * len(y_pred),\n",
        "            'Actual_Cost': y_test,\n",
        "            'Predicted_Cost': y_pred\n",
        "        })\n",
        "\n",
        "        # Додаємо результати в загальний DataFrame\n",
        "        results.append(carrier_results)\n",
        "\n",
        "    # Об'єднання результатів в один DataFrame\n",
        "    final_results = pd.concat(results, ignore_index=True)\n",
        "\n",
        "    # Підсумкові результати для кожного перевізника\n",
        "    final_summary = final_results.groupby('Carrier').agg(\n",
        "        Total_Actual_Cost=('Actual_Cost', 'sum'),\n",
        "        Total_Predicted_Cost=('Predicted_Cost', 'sum')\n",
        "    ).reset_index()\n",
        "\n",
        "    # Повертаємо результат у бажаному форматі\n",
        "    return final_summary\n",
        "\n",
        "# Прогнозуємо витрати для кожного перевізника з статусом \"Delivered\"\n",
        "predicted_costs = predict_cost_by_carrier_for_delivered(df)\n",
        "\n",
        "# Виведення результатів у форматі:\n",
        "# Перевізник, поточні витрати, прогнозовані витрати\n",
        "print(predicted_costs)"
      ],
      "metadata": {
        "colab": {
          "base_uri": "https://localhost:8080/"
        },
        "id": "XcSjUkvQVwAc",
        "outputId": "c4d3df2c-7914-48f3-d0d9-cbeec6ce9eb0"
      },
      "execution_count": 26,
      "outputs": [
        {
          "output_type": "stream",
          "name": "stdout",
          "text": [
            "Перевізник: UPS, Кількість записів: 221\n",
            "Перевізник: DHL, Кількість записів: 231\n",
            "Перевізник: OnTrac, Кількість записів: 248\n",
            "Перевізник: FedEx, Кількість записів: 244\n",
            "Перевізник: Amazon Logistics, Кількість записів: 217\n",
            "Перевізник: LaserShip, Кількість записів: 248\n",
            "Перевізник: USPS, Кількість записів: 239\n",
            "            Carrier  Total_Actual_Cost  Total_Predicted_Cost\n",
            "0  Amazon Logistics            8889.86             9005.5902\n",
            "1               DHL            9785.89             9512.5110\n",
            "2             FedEx           12463.91            11824.0932\n",
            "3         LaserShip            9453.27            12510.0381\n",
            "4            OnTrac            8456.34             9005.8092\n",
            "5               UPS            9126.37            10396.6722\n",
            "6              USPS            8577.93             9153.4357\n"
          ]
        }
      ]
    },
    {
      "cell_type": "code",
      "source": [
        "df.to_csv('/content/drive/MyDrive/Colab Notebooks/Фінальний проєк/logistics_shipments_dataset(2).csv', index=False)"
      ],
      "metadata": {
        "id": "ucrcuTNjdnES"
      },
      "execution_count": 27,
      "outputs": []
    }
  ]
}